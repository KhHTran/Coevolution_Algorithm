{
 "cells": [
  {
   "cell_type": "code",
   "execution_count": 1,
   "metadata": {},
   "outputs": [],
   "source": [
    "import numpy as np\n",
    "import matplotlib.pyplot as plt"
   ]
  },
  {
   "cell_type": "code",
   "execution_count": 2,
   "metadata": {},
   "outputs": [],
   "source": [
    "populationNum = 2\n",
    "populationSize = 25\n",
    "sampleSize = 15\n",
    "mutationBias = 0.005\n",
    "length = 100"
   ]
  },
  {
   "cell_type": "code",
   "execution_count": 3,
   "metadata": {},
   "outputs": [],
   "source": [
    "populations = []\n",
    "populations.append([])\n",
    "populations.append([])\n",
    "values = []\n",
    "values.append([])\n",
    "values.append([])\n",
    "val0 = \"\"\n",
    "val1 = \"\"\n",
    "for i in range(length) :\n",
    "    val0 += \"0\"\n",
    "    val1 += \"1\"\n",
    "for i in range(populationSize) :\n",
    "    populations[0].append(val0)\n",
    "    populations[1].append(val1)\n",
    "    values[0].append(0)\n",
    "    values[1].append(100)"
   ]
  },
  {
   "cell_type": "code",
   "execution_count": 4,
   "metadata": {},
   "outputs": [],
   "source": [
    "def mutate(individual, value):\n",
    "    ind = list(individual)\n",
    "    for i in range(length):\n",
    "        r = np.random.rand()\n",
    "        if r < mutationBias :\n",
    "            value += -1 if individual[i] == '1' else 1\n",
    "            ind[i] = '0' if individual[i] == '1' else '1'\n",
    "    return \"\".join(ind), value\n",
    "avrg = []\n",
    "avrg.append([])\n",
    "avrg.append([])\n",
    "for i in range(600) :\n",
    "    for j in range(populationSize) :\n",
    "        populations[0][j], values[0][j] = mutate(populations[0][j],values[0][j])\n",
    "        populations[1][j], values[1][j] = mutate(populations[1][j],values[1][j])\n",
    "    avrg[0].append(sum(values[0])/populationSize)\n",
    "    avrg[1].append(sum(values[1])/populationSize)"
   ]
  },
  {
   "cell_type": "code",
   "execution_count": 5,
   "metadata": {},
   "outputs": [
    {
     "data": {
      "text/plain": [
       "(0, 100)"
      ]
     },
     "execution_count": 5,
     "metadata": {},
     "output_type": "execute_result"
    },
    {
     "data": {
      "image/png": "[encoded data removed]",
      "text/plain": [
       "<Figure size 432x288 with 1 Axes>"
      ]
     },
     "metadata": {
      "needs_background": "light"
     },
     "output_type": "display_data"
    }
   ],
   "source": [
    "plt.plot(range(600),avrg[0],c='r')\n",
    "plt.plot(range(600),avrg[1],c='b')\n",
    "plt.plot(range(600),50*np.ones(600),c='black')\n",
    "plt.xlabel(\"generation\")\n",
    "plt.ylabel(\"objective fitness\")\n",
    "plt.xlim(0,600)\n",
    "plt.ylim(0,100)"
   ]
  },
  {
   "cell_type": "code",
   "execution_count": 6,
   "metadata": {},
   "outputs": [],
   "source": [
    "populations = []\n",
    "populations.append([])\n",
    "populations.append([])\n",
    "values = []\n",
    "values.append([])\n",
    "values.append([])\n",
    "val0 = \"\"\n",
    "for i in range(length) :\n",
    "    val0 += \"0\"\n",
    "for i in range(populationSize) :\n",
    "    populations[0].append(val0)\n",
    "    populations[1].append(val0)\n",
    "    values[0].append(0)\n",
    "    values[1].append(0)"
   ]
  },
  {
   "cell_type": "code",
   "execution_count": 7,
   "metadata": {},
   "outputs": [],
   "source": [
    "def createWheel(fit) :\n",
    "    sums = []\n",
    "    sums.append(fit[0])\n",
    "    for i in range(populationSize) :\n",
    "        if i > 0 :\n",
    "            sums.append(sums[i-1] + fit[i])\n",
    "    return sums\n",
    "def selection(wheel) :\n",
    "    valMax = wheel[-1]\n",
    "    val = np.random.rand() * valMax\n",
    "    indx = 0\n",
    "    while wheel[indx] < val :\n",
    "        indx += 1\n",
    "    return indx\n",
    "def fitness(value,populationVal,size) :\n",
    "    permutation = np.random.permutation(populationSize)\n",
    "    permutation = permutation[:size]\n",
    "    score = 0\n",
    "    for i in permutation :\n",
    "        score += 1 if value > populationVal[i] else 0\n",
    "    return score\n",
    "avrg = []\n",
    "avrg.append([])\n",
    "avrg.append([])\n",
    "fit = []\n",
    "fit.append([])\n",
    "fit.append([])\n",
    "for i in range(populationSize) :\n",
    "    fit[0].append(1)\n",
    "    fit[1].append(1)\n",
    "for i in range(600) :\n",
    "    nextGen = []\n",
    "    nextGen.append([])\n",
    "    nextGen.append([])\n",
    "    nextGenVal = []\n",
    "    nextGenVal.append([])\n",
    "    nextGenVal.append([])\n",
    "    wheels = []\n",
    "    wheels.append(createWheel(fit[0]))\n",
    "    wheels.append(createWheel(fit[1]))\n",
    "    for j in range(populationSize) :\n",
    "        indx = selection(wheels[0])\n",
    "        p, v = mutate(populations[0][indx],values[0][indx])\n",
    "        nextGen[0].append(p)\n",
    "        nextGenVal[0].append(v)\n",
    "        indx = selection(wheels[1])\n",
    "        p, v = mutate(populations[1][indx],values[1][indx])\n",
    "        nextGen[1].append(p)\n",
    "        nextGenVal[1].append(v)\n",
    "    fit = []\n",
    "    fit.append([])\n",
    "    fit.append([])\n",
    "    populations = nextGen\n",
    "    values = nextGenVal\n",
    "    for j in range(populationSize) :\n",
    "        fit[0].append(fitness(nextGenVal[0][j],nextGenVal[1],15))\n",
    "        fit[1].append(fitness(nextGenVal[1][j],nextGenVal[0],15))\n",
    "    avrg[0].append(sum(values[0])/populationSize)\n",
    "    avrg[1].append(sum(values[1])/populationSize)"
   ]
  },
  {
   "cell_type": "code",
   "execution_count": 8,
   "metadata": {},
   "outputs": [
    {
     "data": {
      "text/plain": [
       "(0, 100)"
      ]
     },
     "execution_count": 8,
     "metadata": {},
     "output_type": "execute_result"
    },
    {
     "data": {
      "image/png": "[encoded data removed]",
      "text/plain": [
       "<Figure size 432x288 with 1 Axes>"
      ]
     },
     "metadata": {
      "needs_background": "light"
     },
     "output_type": "display_data"
    }
   ],
   "source": [
    "plt.plot(range(600),avrg[0],c='r')\n",
    "plt.plot(range(600),avrg[1],c='b')\n",
    "plt.xlabel(\"generation\")\n",
    "plt.ylabel(\"objective fitness\")\n",
    "plt.xlim(0,600)\n",
    "plt.ylim(0,100)"
   ]
  },
  {
   "cell_type": "code",
   "execution_count": 9,
   "metadata": {},
   "outputs": [],
   "source": [
    "populations = []\n",
    "populations.append([])\n",
    "populations.append([])\n",
    "values = []\n",
    "values.append([])\n",
    "values.append([])\n",
    "val0 = \"\"\n",
    "for i in range(length) :\n",
    "    val0 += \"0\"\n",
    "for i in range(populationSize) :\n",
    "    populations[0].append(val0)\n",
    "    populations[1].append(val0)\n",
    "    values[0].append(0)\n",
    "    values[1].append(0)"
   ]
  },
  {
   "cell_type": "code",
   "execution_count": 10,
   "metadata": {},
   "outputs": [],
   "source": [
    "def createWheel(fit) :\n",
    "    sums = []\n",
    "    sums.append(fit[0])\n",
    "    for i in range(populationSize) :\n",
    "        if i > 0 :\n",
    "            sums.append(sums[i-1] + fit[i])\n",
    "    return sums\n",
    "def selection(wheel) :\n",
    "    valMax = wheel[-1]\n",
    "    val = np.random.rand() * valMax\n",
    "    indx = 0\n",
    "    while wheel[indx] < val :\n",
    "        indx += 1\n",
    "    return indx\n",
    "def fitness(value,populationVal,size) :\n",
    "    permutation = np.random.permutation(populationSize)\n",
    "    permutation = permutation[:size]\n",
    "    score = 0\n",
    "    for i in permutation :\n",
    "        score += 1 if value > populationVal[i] else 0\n",
    "    return score\n",
    "avrg = []\n",
    "avrg.append([])\n",
    "avrg.append([])\n",
    "fit = []\n",
    "fit.append([])\n",
    "fit.append([])\n",
    "for i in range(populationSize) :\n",
    "    fit[0].append(1)\n",
    "    fit[1].append(1)\n",
    "for i in range(600) :\n",
    "    nextGen = []\n",
    "    nextGen.append([])\n",
    "    nextGen.append([])\n",
    "    nextGenVal = []\n",
    "    nextGenVal.append([])\n",
    "    nextGenVal.append([])\n",
    "    wheels = []\n",
    "    wheels.append(createWheel(fit[0]))\n",
    "    wheels.append(createWheel(fit[1]))\n",
    "    for j in range(populationSize) :\n",
    "        indx = selection(wheels[0])\n",
    "        p, v = mutate(populations[0][indx],values[0][indx])\n",
    "        nextGen[0].append(p)\n",
    "        nextGenVal[0].append(v)\n",
    "        indx = selection(wheels[1])\n",
    "        p, v = mutate(populations[1][indx],values[1][indx])\n",
    "        nextGen[1].append(p)\n",
    "        nextGenVal[1].append(v)\n",
    "    fit = []\n",
    "    fit.append([])\n",
    "    fit.append([])\n",
    "    populations = nextGen\n",
    "    values = nextGenVal\n",
    "    for j in range(populationSize) :\n",
    "        fit[0].append(fitness(nextGenVal[0][j],nextGenVal[1],10))\n",
    "        fit[1].append(fitness(nextGenVal[1][j],nextGenVal[0],10))\n",
    "    avrg[0].append(sum(values[0])/populationSize)\n",
    "    avrg[1].append(sum(values[1])/populationSize)"
   ]
  },
  {
   "cell_type": "code",
   "execution_count": 11,
   "metadata": {},
   "outputs": [
    {
     "data": {
      "text/plain": [
       "(0, 100)"
      ]
     },
     "execution_count": 11,
     "metadata": {},
     "output_type": "execute_result"
    },
    {
     "data": {
      "image/png": "[encoded data removed]",
      "text/plain": [
       "<Figure size 432x288 with 1 Axes>"
      ]
     },
     "metadata": {
      "needs_background": "light"
     },
     "output_type": "display_data"
    }
   ],
   "source": [
    "plt.plot(range(600),avrg[0],c='r')\n",
    "plt.plot(range(600),avrg[1],c='b')\n",
    "plt.xlabel(\"generation\")\n",
    "plt.ylabel(\"objective fitness\")\n",
    "plt.xlim(0,600)\n",
    "plt.ylim(0,100)"
   ]
  },
  {
   "cell_type": "code",
   "execution_count": 12,
   "metadata": {},
   "outputs": [],
   "source": [
    "populations = []\n",
    "populations.append([])\n",
    "populations.append([])\n",
    "values = []\n",
    "values.append([])\n",
    "values.append([])\n",
    "val0 = \"\"\n",
    "length = 10\n",
    "dimension = 10\n",
    "for i in range(length) :\n",
    "    val0 += \"0\"\n",
    "for i in range(populationSize) :\n",
    "    populations[0].append([])\n",
    "    populations[1].append([])\n",
    "    for j in range(dimension) :\n",
    "        populations[0][i].append(val0)\n",
    "        populations[1][i].append(val0)\n",
    "    values[0].append(np.zeros(10).tolist())\n",
    "    values[1].append(np.zeros(10).tolist())"
   ]
  },
  {
   "cell_type": "code",
   "execution_count": 13,
   "metadata": {},
   "outputs": [],
   "source": [
    "def fitness10deq2(values, populationVal, size) :\n",
    "    permutation = np.random.permutation(populationSize)\n",
    "    permutation = permutation[:size]\n",
    "    score = 0\n",
    "    for i in permutation :\n",
    "        temp = 1 if values[0] > populationVal[i][0] else 0\n",
    "        maxi = abs(values[0] - populationVal[i][0])\n",
    "        for d in range(10) :\n",
    "            if(abs(values[d] - populationVal[i][d]) > maxi) :\n",
    "                temp = 1 if values[d] > populationVal[i][d] else 0\n",
    "                maxi = abs(values[d] - populationVal[i][d])\n",
    "        score += temp\n",
    "    return score\n",
    "\n",
    "def mutate10d(individual, value) :\n",
    "    ind = []\n",
    "    indiv = []\n",
    "    val = value.copy()\n",
    "    for i in range(10):\n",
    "        ind.append(list(individual[i]))\n",
    "        for j in range(10):\n",
    "            r = np.random.rand()\n",
    "            if r < mutationBias :\n",
    "                val[i] += -1 if individual[i][j] == '1' else 1\n",
    "                ind[i][j] = '0' if individual[i][j] == '1' else '1'\n",
    "        indiv.append(\"\".join(ind[i]))\n",
    "    return indiv, val"
   ]
  },
  {
   "cell_type": "code",
   "execution_count": 14,
   "metadata": {},
   "outputs": [
    {
     "data": {
      "text/plain": [
       "(0, 100)"
      ]
     },
     "execution_count": 14,
     "metadata": {},
     "output_type": "execute_result"
    },
    {
     "data": {
      "image/png": "[encoded data removed]",
      "text/plain": [
       "<Figure size 432x288 with 1 Axes>"
      ]
     },
     "metadata": {
      "needs_background": "light"
     },
     "output_type": "display_data"
    }
   ],
   "source": [
    "avrg = []\n",
    "avrg.append([])\n",
    "avrg.append([])\n",
    "fit = []\n",
    "fit.append([])\n",
    "fit.append([])\n",
    "for i in range(populationSize) :\n",
    "    fit[0].append(1)\n",
    "    fit[1].append(1)\n",
    "for i in range(600) :\n",
    "    wheels = []\n",
    "    wheels.append(createWheel(fit[0]))\n",
    "    wheels.append(createWheel(fit[1]))\n",
    "    popTemp = []\n",
    "    popTemp.append([])\n",
    "    popTemp.append([])\n",
    "    valTemp = []\n",
    "    valTemp.append([])\n",
    "    valTemp.append([])\n",
    "    for j in range(populationSize) :\n",
    "        indx = selection(wheels[0])\n",
    "        p,v = mutate10d(populations[0][indx],values[0][indx])\n",
    "        popTemp[0].append(p)\n",
    "        valTemp[0].append(v)\n",
    "        indx = selection(wheels[1])\n",
    "        p,v = mutate10d(populations[1][indx],values[1][indx])\n",
    "        popTemp[1].append(p)\n",
    "        valTemp[1].append(v)\n",
    "    fit = []\n",
    "    fit.append([])\n",
    "    fit.append([])\n",
    "    populations = popTemp.copy()\n",
    "    values = valTemp.copy()\n",
    "    for j in range(populationSize) :\n",
    "        fit[0].append(fitness10deq2(values[0][j],values[1],15))\n",
    "        fit[1].append(fitness10deq2(values[1][j],values[0],15))\n",
    "    avrg[0].append(sum([sum(e) for e in values[0]])/populationSize)\n",
    "    avrg[1].append(sum([sum(e) for e in values[1]])/populationSize)\n",
    "plt.plot(range(600),avrg[0],c='r')\n",
    "plt.plot(range(600),avrg[1],c='b')\n",
    "plt.xlabel(\"generation\")\n",
    "plt.ylabel(\"objective fitness\")\n",
    "plt.xlim(0,600)\n",
    "plt.ylim(0,100)"
   ]
  },
  {
   "cell_type": "code",
   "execution_count": 15,
   "metadata": {},
   "outputs": [],
   "source": [
    "populations = []\n",
    "populations.append([])\n",
    "populations.append([])\n",
    "values = []\n",
    "values.append([])\n",
    "values.append([])\n",
    "val0 = \"\"\n",
    "length = 10\n",
    "dimension = 10\n",
    "for i in range(length) :\n",
    "    val0 += \"0\"\n",
    "for i in range(populationSize) :\n",
    "    populations[0].append([])\n",
    "    populations[1].append([])\n",
    "    for j in range(dimension) :\n",
    "        populations[0][i].append(val0)\n",
    "        populations[1][i].append(val0)\n",
    "    values[0].append(np.zeros(10).tolist())\n",
    "    values[1].append(np.zeros(10).tolist())\n",
    "\n",
    "def fitness10deq3(values, populationVal, size) :\n",
    "    permutation = np.random.permutation(populationSize)\n",
    "    permutation = permutation[:size]\n",
    "    score = 0\n",
    "    for i in permutation :\n",
    "        temp = 1 if values[0] > populationVal[i][0] else 0\n",
    "        mini = abs(values[0] - populationVal[i][0])\n",
    "        for d in range(10) :\n",
    "            if(abs(values[d] - populationVal[i][d]) < mini ) :\n",
    "                temp = 1 if values[d] > populationVal[i][d] else 0\n",
    "                mini = abs(values[d] - populationVal[i][d])\n",
    "        score += temp\n",
    "    return score"
   ]
  },
  {
   "cell_type": "code",
   "execution_count": 16,
   "metadata": {},
   "outputs": [
    {
     "data": {
      "text/plain": [
       "(0, 100)"
      ]
     },
     "execution_count": 16,
     "metadata": {},
     "output_type": "execute_result"
    },
    {
     "data": {
      "image/png": "[encoded data removed]",
      "text/plain": [
       "<Figure size 432x288 with 1 Axes>"
      ]
     },
     "metadata": {
      "needs_background": "light"
     },
     "output_type": "display_data"
    }
   ],
   "source": [
    "avrg = []\n",
    "avrg.append([])\n",
    "avrg.append([])\n",
    "fit = []\n",
    "fit.append([])\n",
    "fit.append([])\n",
    "for i in range(populationSize) :\n",
    "    fit[0].append(1)\n",
    "    fit[1].append(1)\n",
    "for i in range(600) :\n",
    "    wheels = []\n",
    "    wheels.append(createWheel(fit[0]))\n",
    "    wheels.append(createWheel(fit[1]))\n",
    "    popTemp = []\n",
    "    popTemp.append([])\n",
    "    popTemp.append([])\n",
    "    valTemp = []\n",
    "    valTemp.append([])\n",
    "    valTemp.append([])\n",
    "    for j in range(populationSize) :\n",
    "        indx = selection(wheels[0])\n",
    "        p,v = mutate10d(populations[0][indx],values[0][indx])\n",
    "        popTemp[0].append(p)\n",
    "        valTemp[0].append(v)\n",
    "        indx = selection(wheels[1])\n",
    "        p,v = mutate10d(populations[1][indx],values[1][indx])\n",
    "        popTemp[1].append(p)\n",
    "        valTemp[1].append(v)\n",
    "    fit = []\n",
    "    fit.append([])\n",
    "    fit.append([])\n",
    "    populations = popTemp.copy()\n",
    "    values = valTemp.copy()\n",
    "    for j in range(populationSize) :\n",
    "        fit[0].append(fitness10deq3(values[0][j],values[1],15))\n",
    "        fit[1].append(fitness10deq3(values[1][j],values[0],15))\n",
    "    avrg[0].append(sum([sum(e) for e in values[0]])/populationSize)\n",
    "    avrg[1].append(sum([sum(e) for e in values[1]])/populationSize)\n",
    "plt.plot(range(600),avrg[0],c='r')\n",
    "plt.plot(range(600),avrg[1],c='b')\n",
    "plt.xlabel(\"generation\")\n",
    "plt.ylabel(\"objective fitness\")\n",
    "plt.xlim(0,600)\n",
    "plt.ylim(0,100)"
   ]
  },
  {
   "cell_type": "code",
   "execution_count": 17,
   "metadata": {},
   "outputs": [],
   "source": [
    "def random_fitness10d(values, populationVal, size, num_dimension) :\n",
    "    permutation = np.random.permutation(populationSize)\n",
    "    permutation = permutation[:size]\n",
    "    score = 0\n",
    "    dimensions = np.random.permutation(10)[:num_dimension]\n",
    "    for i in permutation :\n",
    "        compare = 0\n",
    "        for d in dimensions :\n",
    "            compare += 1 if values[d] > populationVal[i][d] else 0\n",
    "        score += 1 if num_dimension - compare <= compare else 0\n",
    "    return score"
   ]
  },
  {
   "cell_type": "code",
   "execution_count": 18,
   "metadata": {},
   "outputs": [],
   "source": [
    "populations = []\n",
    "populations.append([])\n",
    "populations.append([])\n",
    "values = []\n",
    "values.append([])\n",
    "values.append([])\n",
    "val0 = \"\"\n",
    "length = 10\n",
    "dimension = 10\n",
    "for i in range(length) :\n",
    "    val0 += \"0\"\n",
    "for i in range(populationSize) :\n",
    "    populations[0].append([])\n",
    "    populations[1].append([])\n",
    "    for j in range(dimension) :\n",
    "        populations[0][i].append(val0)\n",
    "        populations[1][i].append(val0)\n",
    "    values[0].append(np.zeros(10).tolist())\n",
    "    values[1].append(np.zeros(10).tolist())\n"
   ]
  },
  {
   "cell_type": "code",
   "execution_count": 19,
   "metadata": {},
   "outputs": [
    {
     "data": {
      "text/plain": [
       "(0, 100)"
      ]
     },
     "execution_count": 19,
     "metadata": {},
     "output_type": "execute_result"
    },
    {
     "data": {
      "image/png": "[encoded data removed]",
      "text/plain": [
       "<Figure size 432x288 with 1 Axes>"
      ]
     },
     "metadata": {
      "needs_background": "light"
     },
     "output_type": "display_data"
    }
   ],
   "source": [
    "avrg = []\n",
    "avrg.append([])\n",
    "avrg.append([])\n",
    "fit = []\n",
    "fit.append([])\n",
    "fit.append([])\n",
    "for i in range(populationSize) :\n",
    "    fit[0].append(1)\n",
    "    fit[1].append(1)\n",
    "for i in range(600) :\n",
    "    wheels = []\n",
    "    wheels.append(createWheel(fit[0]))\n",
    "    wheels.append(createWheel(fit[1]))\n",
    "    popTemp = []\n",
    "    popTemp.append([])\n",
    "    popTemp.append([])\n",
    "    valTemp = []\n",
    "    valTemp.append([])\n",
    "    valTemp.append([])\n",
    "    for j in range(populationSize) :\n",
    "        indx = selection(wheels[0])\n",
    "        p,v = mutate10d(populations[0][indx],values[0][indx])\n",
    "        popTemp[0].append(p)\n",
    "        valTemp[0].append(v)\n",
    "        indx = selection(wheels[1])\n",
    "        p,v = mutate10d(populations[1][indx],values[1][indx])\n",
    "        popTemp[1].append(p)\n",
    "        valTemp[1].append(v)\n",
    "    fit = []\n",
    "    fit.append([])\n",
    "    fit.append([])\n",
    "    populations = popTemp.copy()\n",
    "    values = valTemp.copy()\n",
    "    for j in range(populationSize) :\n",
    "        fit[0].append(random_fitness10d(values[0][j],values[1],15,1))\n",
    "        fit[1].append(random_fitness10d(values[1][j],values[0],15,1))\n",
    "    avrg[0].append(sum([sum(e) for e in values[0]])/populationSize)\n",
    "    avrg[1].append(sum([sum(e) for e in values[1]])/populationSize)\n",
    "plt.plot(range(600),avrg[0],c='r')\n",
    "plt.plot(range(600),avrg[1],c='b')\n",
    "plt.xlabel(\"generation\")\n",
    "plt.ylabel(\"objective fitness\")\n",
    "plt.xlim(0,600)\n",
    "plt.ylim(0,100)"
   ]
  },
  {
   "cell_type": "code",
   "execution_count": 106,
   "metadata": {},
   "outputs": [],
   "source": [
    "opponents = []\n",
    "oppVal = []\n",
    "for i in range(35) :\n",
    "    opponents.append(np.random.randint(2,size=(10,10)))\n",
    "    oppVal.append([sum(opponents[i][j]) for j in range(10)])\n",
    "\n",
    "oppVal2 = []\n",
    "for i in range(10) :\n",
    "    oppVal2.append((np.ones(10)*(i+1)).tolist())"
   ]
  },
  {
   "cell_type": "code",
   "execution_count": 115,
   "metadata": {},
   "outputs": [],
   "source": [
    "def fixed_fitness(ival) :\n",
    "    total = 0\n",
    "    for i in range(35) :\n",
    "        s = 0\n",
    "        for j in range(len(ival)) : \n",
    "            s += 1 if ival[j] > oppVal[i][j] else 0\n",
    "        total += s\n",
    "    return total\n",
    "def fixed_fitness2(ival) : \n",
    "    total = 0\n",
    "    for i in range(10) :\n",
    "        s = 0\n",
    "        for j in range(len(ival)) : \n",
    "            s += 1 if ival[j] > oppVal2[i][j] else 0\n",
    "        total += s\n",
    "    return total\n",
    "def ffitness2(ival) :\n",
    "    score = 0\n",
    "    for i in range(10) :\n",
    "        temp = 1 if ival[0] > oppVal2[i][0] else 0\n",
    "        maxi = abs(ival[0] - oppVal2[i][0])\n",
    "        for d in range(10) :\n",
    "            if(abs(ival[d] - oppVal2[i][d]) > maxi) :\n",
    "                temp = 1 if ival[d] > oppVal2[i][d] else 0\n",
    "                maxi = abs(ival[d] - oppVal2[i][d])\n",
    "        score += temp\n",
    "    return score"
   ]
  },
  {
   "cell_type": "code",
   "execution_count": 116,
   "metadata": {},
   "outputs": [],
   "source": [
    "population = []\n",
    "value = []\n",
    "val0 = \"\"\n",
    "length = 10\n",
    "dimension = 10\n",
    "for i in range(length) :\n",
    "    val0 += \"0\"\n",
    "for i in range(populationSize) :\n",
    "    population.append([])\n",
    "    for j in range(dimension) :\n",
    "        population[i].append(val0)\n",
    "    value.append(np.zeros(10).tolist())"
   ]
  },
  {
   "cell_type": "code",
   "execution_count": 117,
   "metadata": {},
   "outputs": [
    {
     "data": {
      "text/plain": [
       "(0, 100)"
      ]
     },
     "execution_count": 117,
     "metadata": {},
     "output_type": "execute_result"
    },
    {
     "data": {
      "image/png": "[encoded data removed]",
      "text/plain": [
       "<Figure size 432x288 with 1 Axes>"
      ]
     },
     "metadata": {
      "needs_background": "light"
     },
     "output_type": "display_data"
    }
   ],
   "source": [
    "avrg = []\n",
    "fit = []\n",
    "for i in range(populationSize) :\n",
    "    fit.append(1)\n",
    "for i in range(600) :\n",
    "    wheels = createWheel(fit)\n",
    "    popTemp = []\n",
    "    valTemp = []\n",
    "    for j in range(populationSize) :\n",
    "        indx = selection(wheels)\n",
    "        p,v = mutate10d(population[indx],value[indx])\n",
    "        popTemp.append(p)\n",
    "        valTemp.append(v)\n",
    "    fit = []\n",
    "    population = popTemp.copy()\n",
    "    value = valTemp.copy()\n",
    "    for j in range(populationSize) :\n",
    "        fit.append(ffitness2(value[j]))\n",
    "    avrg.append(sum([sum(e) for e in value])/populationSize)\n",
    "plt.plot(range(600),avrg,c='r')\n",
    "plt.xlabel(\"generation\")\n",
    "plt.ylabel(\"objective fitness\")\n",
    "plt.scatter(100*np.ones(len(oppVal2)),[sum(a) for a in oppVal2],c='b')\n",
    "plt.xlim(0,600)\n",
    "plt.ylim(0,100)"
   ]
  },
  {
   "cell_type": "code",
   "execution_count": 87,
   "metadata": {},
   "outputs": [],
   "source": [
    "def getfitness(ival,p,n,m) :\n",
    "    permu = np.random.permutation(populationSize)[:n]\n",
    "    total = 0\n",
    "    for i in permu :\n",
    "        maxi = np.zeros(m).tolist()\n",
    "        sign = np.zeros(m).tolist()\n",
    "        for j in range(len(ival)) : \n",
    "            v = abs(ival[j] - p[i][j])\n",
    "            for i in range(m) :\n",
    "                if(maxi[i] < m) :\n",
    "                    maxi = maxi[:i] + [v] + maxi[i:m-1]\n",
    "                    sign = sign[:i] + [1 if ival[j] > p[i][j] else 0] + sign[i:m-1]\n",
    "        total += 1 if sum(sign)*2 > m else 0\n",
    "    return total"
   ]
  },
  {
   "cell_type": "code",
   "execution_count": 93,
   "metadata": {},
   "outputs": [],
   "source": [
    "populations = []\n",
    "populations.append([])\n",
    "populations.append([])\n",
    "values = []\n",
    "values.append([])\n",
    "values.append([])\n",
    "val0 = \"\"\n",
    "length = 10\n",
    "dimension = 10\n",
    "for i in range(length) :\n",
    "    val0 += \"0\"\n",
    "for i in range(populationSize) :\n",
    "    populations[0].append([])\n",
    "    populations[1].append([])\n",
    "    for j in range(dimension) :\n",
    "        populations[0][i].append(val0)\n",
    "        populations[1][i].append(val0)\n",
    "    values[0].append(np.zeros(dimension).tolist())\n",
    "    values[1].append(np.zeros(dimension).tolist())\n",
    "def createWheel(fit) :\n",
    "    sums = []\n",
    "    sums.append(fit[0])\n",
    "    for i in range(populationSize) :\n",
    "        if i > 0 :\n",
    "            sums.append(sums[i-1] + fit[i])\n",
    "    return sums\n",
    "def selection(wheel) :\n",
    "    valMax = wheel[-1]\n",
    "    val = np.random.rand() * valMax\n",
    "    indx = 0\n",
    "    while wheel[indx] < val :\n",
    "        indx += 1\n",
    "    return indx\n",
    "def mutate11d(individual, value) :\n",
    "    ind = []\n",
    "    indiv = []\n",
    "    val = value.copy()\n",
    "    for i in range(11):\n",
    "        ind.append(list(individual[i]))\n",
    "        for j in range(10):\n",
    "            r = np.random.rand()\n",
    "            if r < mutationBias :\n",
    "                val[i] += -1 if individual[i][j] == '1' else 1\n",
    "                ind[i][j] = '0' if individual[i][j] == '1' else '1'\n",
    "        indiv.append(\"\".join(ind[i]))\n",
    "    return indiv, val"
   ]
  },
  {
   "cell_type": "code",
   "execution_count": 95,
   "metadata": {},
   "outputs": [
    {
     "data": {
      "text/plain": [
       "(0, 100)"
      ]
     },
     "execution_count": 95,
     "metadata": {},
     "output_type": "execute_result"
    },
    {
     "data": {
      "image/png": "[encoded data removed]",
      "text/plain": [
       "<Figure size 432x288 with 1 Axes>"
      ]
     },
     "metadata": {
      "needs_background": "light"
     },
     "output_type": "display_data"
    }
   ],
   "source": [
    "avrg = []\n",
    "avrg.append([])\n",
    "avrg.append([])\n",
    "fit = []\n",
    "fit.append([])\n",
    "fit.append([])\n",
    "for i in range(populationSize) :\n",
    "    fit[0].append(1)\n",
    "    fit[1].append(1)\n",
    "for i in range(600) :\n",
    "    wheels = []\n",
    "    wheels.append(createWheel(fit[0]))\n",
    "    wheels.append(createWheel(fit[1]))\n",
    "    popTemp = []\n",
    "    popTemp.append([])\n",
    "    popTemp.append([])\n",
    "    valTemp = []\n",
    "    valTemp.append([])\n",
    "    valTemp.append([])\n",
    "    for j in range(populationSize) :\n",
    "        indx = selection(wheels[0])\n",
    "        p,v = mutate10d(populations[0][indx],values[0][indx])\n",
    "        popTemp[0].append(p)\n",
    "        valTemp[0].append(v)\n",
    "        indx = selection(wheels[1])\n",
    "        p,v = mutate10d(populations[1][indx],values[1][indx])\n",
    "        popTemp[1].append(p)\n",
    "        valTemp[1].append(v)\n",
    "    fit = []\n",
    "    fit.append([])\n",
    "    fit.append([])\n",
    "    populations = popTemp.copy()\n",
    "    values = valTemp.copy()\n",
    "    for j in range(populationSize) :\n",
    "        fit[0].append(fitness10deq2(values[0][j],values[1],15))\n",
    "        fit[1].append(fitness10deq2(values[1][j],values[0],15))\n",
    "    avrg[0].append(sum([sum(e) for e in values[0]])/populationSize)\n",
    "    avrg[1].append(sum([sum(e) for e in values[1]])/populationSize)\n",
    "plt.plot(range(600),avrg[0],c='r')\n",
    "plt.plot(range(600),avrg[1],c='b')\n",
    "plt.xlabel(\"generation\")\n",
    "plt.ylabel(\"objective fitness\")\n",
    "plt.xlim(0,600)\n",
    "plt.ylim(0,100)"
   ]
  }
 ],
 "metadata": {
  "kernelspec": {
   "display_name": "Python 3",
   "language": "python",
   "name": "python3"
  },
  "language_info": {
   "codemirror_mode": {
    "name": "ipython",
    "version": 3
   },
   "file_extension": ".py",
   "mimetype": "text/x-python",
   "name": "python",
   "nbconvert_exporter": "python",
   "pygments_lexer": "ipython3",
   "version": "3.7.1"
  }
 },
 "nbformat": 4,
 "nbformat_minor": 2
}
